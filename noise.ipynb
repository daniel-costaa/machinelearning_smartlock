{
 "metadata": {
  "language_info": {
   "codemirror_mode": {
    "name": "ipython",
    "version": 3
   },
   "file_extension": ".py",
   "mimetype": "text/x-python",
   "name": "python",
   "nbconvert_exporter": "python",
   "pygments_lexer": "ipython3",
   "version": "3.7.9-final"
  },
  "orig_nbformat": 2,
  "kernelspec": {
   "name": "python3",
   "display_name": "Python 3.7.9 64-bit ('smartlock_env': conda)",
   "metadata": {
    "interpreter": {
     "hash": "fb6cd483dd631ca1658ae19ddae9d0242da8234ee39af84779686ab7bf1b466d"
    }
   }
  }
 },
 "nbformat": 4,
 "nbformat_minor": 2,
 "cells": [
  {
   "cell_type": "code",
   "execution_count": 18,
   "metadata": {},
   "outputs": [],
   "source": [
    "import librosa\n",
    "import matplotlib.pyplot as plt\n",
    "import numpy as np\n",
    "import math\n"
   ]
  },
  {
   "cell_type": "code",
   "execution_count": 28,
   "metadata": {},
   "outputs": [],
   "source": [
    "i = 50\n",
    "for arq in glob.glob('audios/*.wav'):\n",
    "    nome_arq=os.path.basename(arq)\n",
    "    signal, sr = librosa.load(arq, sr = 16000)\n",
    "\n",
    "    RMS=math.sqrt(np.mean(signal**2))\n",
    "\n",
    "    STD_n= 0.001\n",
    "    noise=np.random.normal(0, STD_n, signal.shape[0])\n",
    "    signal_noise = signal+noise\n",
    "\n",
    "    if nome_arq.startswith('Xabra') or nome_arq.startswith('Xfeche'):\n",
    "        soundfile.write(f'{arq}{i}.wav',signal_noise,16000)\n",
    "    i=i+1"
   ]
  },
  {
   "cell_type": "code",
   "execution_count": null,
   "metadata": {},
   "outputs": [],
   "source": []
  }
 ]
}