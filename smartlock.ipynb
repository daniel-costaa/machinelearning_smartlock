{
  "nbformat": 4,
  "nbformat_minor": 0,
  "metadata": {
    "colab": {
      "name": "FinalSER.ipynb",
      "provenance": [],
      "collapsed_sections": []
    },
    "kernelspec": {
      "name": "python3",
      "display_name": "Python 3.7.9 64-bit ('smartlock': conda)",
      "metadata": {
        "interpreter": {
          "hash": "bbc15d4468572eee90113677f325edf065248d7c795ffa11b3ede5f12c9a0354"
        }
      }
    }
  },
  "cells": [
    {
      "cell_type": "markdown",
      "metadata": {
        "id": "SKNo9RTBj1hA",
        "colab_type": "text"
      },
      "source": [
        "# Smart Lock por reconhecimento de voz\n",
        "\n",
        "\n"
      ]
    },
    {
      "cell_type": "markdown",
      "metadata": {
        "id": "nrH14Ttlo2EL",
        "colab_type": "text"
      },
      "source": [
        "# Bibs necessárias\n",
        "pip install librosa soundfile numpy sklearn pyaudio, glob\n",
        "\n",
        "pip install soundfile"
      ]
    },
    {
      "cell_type": "code",
      "metadata": {
        "id": "3fyYSbcJjy7i",
        "colab_type": "code",
        "colab": {}
      },
      "source": [
        "import librosa, soundfile, os, glob\n",
        "import numpy as np\n",
        "from sklearn.model_selection import train_test_split\n",
        "from sklearn.neural_network import MLPClassifier\n",
        "from sklearn.metrics import accuracy_score"
      ],
      "execution_count": 1,
      "outputs": []
    },
    {
      "cell_type": "markdown",
      "metadata": {
        "id": "6QufSKr1ksJc",
        "colab_type": "text"
      },
      "source": [
        "Função para extrair as features de mfcc, chroma e mel de um arquivo.\n",
        "* mfcc: coeficiente cepstral de frequência de Mel, representa o espectro de potência de curto prazo de um som\n",
        "* chroma: cromagrama de uma forma de onda ou espectrograma de potência.\n",
        "* mel: frequência do espectrograma Mel\n"
      ]
    },
    {
      "cell_type": "code",
      "metadata": {
        "id": "dwB6D_vLpOoR",
        "colab_type": "code",
        "colab": {}
      },
      "source": [
        "def extrai_atributos(nome_arq):\n",
        "    X, sample_rate = librosa.load(os.path.join(nome_arq), res_type='kaiser_best')\n",
        "\n",
        "    stft=np.abs(librosa.stft(X))\n",
        "    atributos=np.array([])\n",
        "\n",
        "    mfccs=np.mean(librosa.feature.mfcc(y=X, sr=sample_rate, n_mfcc=40).T, axis=0)\n",
        "    atributos=np.hstack((atributos, mfccs))\n",
        "\n",
        "    chroma=np.mean(librosa.feature.chroma_stft(S=stft, sr=sample_rate).T,axis=0)\n",
        "    atributos=np.hstack((atributos, chroma))\n",
        "\n",
        "    mel=np.mean(librosa.feature.melspectrogram(X, sr=sample_rate).T,axis=0)\n",
        "    atributos=np.hstack((atributos, mel))\n",
        "\n",
        "    return atributos"
      ],
      "execution_count": 2,
      "outputs": []
    },
    {
      "cell_type": "markdown",
      "metadata": {
        "id": "2VjDiYuC3G-D",
        "colab_type": "text"
      },
      "source": [
        "# Carrega os dados e extrai as features de cada arquivo de áudio\n",
        "Define os labels para os arquivos de áudio"
      ]
    },
    {
      "cell_type": "code",
      "metadata": {
        "id": "f2axyBFDqI1A",
        "colab_type": "code",
        "colab": {}
      },
      "source": [
        "\n",
        "def load_data(test_size=0.2):\n",
        "    x,y=[],[]\n",
        "    for arq in glob.glob('audios/*.wav'):\n",
        "        nome_arq=os.path.basename(arq)\n",
        "        atributo=extrai_atributos(arq)\n",
        "        x.append(atributo)\n",
        "        \n",
        "        if nome_arq.startswith('Xabra'):\n",
        "            y.append('Abra')\n",
        "        elif nome_arq.startswith('Xfeche'):\n",
        "            y.append('Fecha')\n",
        "        else:\n",
        "            y.append('Desautorizado')\n",
        "    return train_test_split(np.array(x), y, test_size=test_size, train_size= 0.75, random_state = 11)"
      ],
      "execution_count": 3,
      "outputs": []
    },
    {
      "cell_type": "markdown",
      "metadata": {
        "id": "wKhGTlqpqOAr",
        "colab_type": "text"
      },
      "source": [
        "# Divide a base de dados\n",
        "25% p/ teste e 75% p/ treinamento"
      ]
    },
    {
      "cell_type": "code",
      "metadata": {
        "id": "a92bN5vAqRb2",
        "colab_type": "code",
        "colab": {}
      },
      "source": [
        "x_train, x_test,y_train, y_test = load_data(test_size=0.25)"
      ],
      "execution_count": 4,
      "outputs": []
    },
    {
      "cell_type": "markdown",
      "metadata": {
        "id": "46eeiQbYqT7p",
        "colab_type": "text"
      },
      "source": [
        "# Quantidade de dados da base de treinamento e de teste:"
      ]
    },
    {
      "cell_type": "code",
      "metadata": {
        "id": "_MXFh4lwqYaC",
        "colab_type": "code",
        "colab": {
          "base_uri": "https://localhost:8080/",
          "height": 35
        },
        "outputId": "eb020e32-a754-4510-97b1-8aaddfba58de"
      },
      "source": [
        "print((x_train.shape[0], x_test.shape[0]))"
      ],
      "execution_count": 5,
      "outputs": [
        {
          "output_type": "stream",
          "name": "stdout",
          "text": [
            "(364, 122)\n"
          ]
        }
      ]
    },
    {
      "cell_type": "markdown",
      "metadata": {
        "id": "xmwRPZe7qey5",
        "colab_type": "text"
      },
      "source": [
        "# Número de atributos extraídos"
      ]
    },
    {
      "cell_type": "code",
      "metadata": {
        "id": "H3C6czeDqgxX",
        "colab_type": "code",
        "colab": {
          "base_uri": "https://localhost:8080/",
          "height": 35
        },
        "outputId": "8625bb60-0a8b-4f66-9b50-88a536ea8b5e"
      },
      "source": [
        "print(f'Atributos extraídos: {x_train.shape[1]}')"
      ],
      "execution_count": 6,
      "outputs": [
        {
          "output_type": "stream",
          "name": "stdout",
          "text": [
            "Atributos extraídos: 180\n"
          ]
        }
      ]
    },
    {
      "cell_type": "markdown",
      "metadata": {
        "id": "YEvGnx7r3W7f",
        "colab_type": "text"
      },
      "source": [
        "# Multi Layer Perceptron"
      ]
    },
    {
      "cell_type": "code",
      "metadata": {
        "id": "pvggD94ZqmAY",
        "colab_type": "code",
        "colab": {}
      },
      "source": [
        "modelo=MLPClassifier(alpha=0.01, batch_size=16, epsilon=1e-08, hidden_layer_sizes=(100,), learning_rate='adaptive', max_iter=500)"
      ],
      "execution_count": 7,
      "outputs": []
    },
    {
      "cell_type": "markdown",
      "metadata": {
        "id": "cG4YLLXGqpAb",
        "colab_type": "text"
      },
      "source": [
        "# Treinar o modelo\n"
      ]
    },
    {
      "cell_type": "code",
      "metadata": {
        "id": "9OfJEVsDqrbY",
        "colab_type": "code",
        "colab": {
          "base_uri": "https://localhost:8080/",
          "height": 159
        },
        "outputId": "b488b813-c7c9-475e-e527-9428af91ae5c"
      },
      "source": [
        "modelo.fit(x_train,y_train)"
      ],
      "execution_count": 8,
      "outputs": [
        {
          "output_type": "execute_result",
          "data": {
            "text/plain": [
              "MLPClassifier(alpha=0.01, batch_size=32, hidden_layer_sizes=(75, 50),\n",
              "              learning_rate='adaptive', max_iter=500)"
            ]
          },
          "metadata": {},
          "execution_count": 8
        }
      ]
    },
    {
      "cell_type": "markdown",
      "metadata": {
        "id": "iDC7AkAt21EF",
        "colab_type": "text"
      },
      "source": [
        "# Acurácia do modelo\n",
        "Prediz a saída para a base de testes e depois cálcula a acurácia"
      ]
    },
    {
      "cell_type": "code",
      "metadata": {
        "id": "YNVNDVnBqw1z",
        "colab_type": "code",
        "colab": {}
      },
      "source": [
        "y_pred=modelo.predict(x_test)"
      ],
      "execution_count": 9,
      "outputs": []
    },
    {
      "cell_type": "code",
      "metadata": {
        "id": "_sDEv4K1q1VA",
        "colab_type": "code",
        "colab": {
          "base_uri": "https://localhost:8080/",
          "height": 35
        },
        "outputId": "b701c4ab-54b0-4173-ebe5-da659c5dd44a"
      },
      "source": [
        "acuracia=accuracy_score(y_true=y_test, y_pred=y_pred)\n",
        "print(\"Acurácia: {:.2f}%\".format(acuracia*100))"
      ],
      "execution_count": 10,
      "outputs": [
        {
          "output_type": "stream",
          "name": "stdout",
          "text": [
            "Acurácia: 96.72%\n"
          ]
        }
      ]
    },
    {
      "cell_type": "markdown",
      "metadata": {
        "id": "hGdh6fh02hFc",
        "colab_type": "text"
      },
      "source": [
        "# Classificação"
      ]
    },
    {
      "cell_type": "code",
      "metadata": {
        "id": "2xreI8SSq6Rc",
        "colab_type": "code",
        "colab": {
          "base_uri": "https://localhost:8080/",
          "height": 284
        },
        "outputId": "e7a791de-bbc6-47d7-fdbe-ab80a0f8e53d"
      },
      "source": [
        "from sklearn.metrics import classification_report\n",
        "print(classification_report(y_test,y_pred, target_names=['Abra', 'Desautorizado', 'Fecha']))\n"
      ],
      "execution_count": 11,
      "outputs": [
        {
          "output_type": "stream",
          "name": "stdout",
          "text": [
            "               precision    recall  f1-score   support\n\n         Abra       1.00      0.81      0.90        16\nDesautorizado       0.96      1.00      0.98        94\n        Fecha       1.00      0.92      0.96        12\n\n     accuracy                           0.97       122\n    macro avg       0.99      0.91      0.94       122\n weighted avg       0.97      0.97      0.97       122\n\n"
          ]
        }
      ]
    },
    {
      "cell_type": "markdown",
      "metadata": {
        "id": "KZZZBmK32ksS",
        "colab_type": "text"
      },
      "source": [
        "# Matriz de Confusão"
      ]
    },
    {
      "cell_type": "code",
      "metadata": {
        "id": "Y2IEjtiTtl-f",
        "colab_type": "code",
        "colab": {
          "base_uri": "https://localhost:8080/",
          "height": 159
        },
        "outputId": "f5c2e30f-b101-4728-9547-f68b4774cbdb"
      },
      "source": [
        "from sklearn.metrics import confusion_matrix\n",
        "import pandas as pd\n",
        "cnf_matrix = confusion_matrix(y_test,y_pred)\n",
        "\n",
        "cnf_table = pd.DataFrame(data=cnf_matrix, index=['Abra', 'Desautorizado', 'Fecha'], columns=[\"Abra (prev)\", \"Desautorizado (prev)\", \"Fecha (prev)\"])\n",
        "print(cnf_table)"
      ],
      "execution_count": 12,
      "outputs": [
        {
          "output_type": "stream",
          "name": "stdout",
          "text": [
            "               Abra (prev)  Desautorizado (prev)  Fecha (prev)\nAbra                    13                     3             0\nDesautorizado            0                    94             0\nFecha                    0                     1            11\n"
          ]
        }
      ]
    },
    {
      "source": [
        "# Salva o modelo"
      ],
      "cell_type": "markdown",
      "metadata": {}
    },
    {
      "cell_type": "code",
      "execution_count": 13,
      "metadata": {},
      "outputs": [
        {
          "output_type": "execute_result",
          "data": {
            "text/plain": [
              "['modelo.joblib']"
            ]
          },
          "metadata": {},
          "execution_count": 13
        }
      ],
      "source": [
        "from joblib import dump\n",
        "\n",
        "dump(modelo, filename=\"modelo.joblib\")"
      ]
    },
    {
      "cell_type": "code",
      "execution_count": null,
      "metadata": {},
      "outputs": [],
      "source": []
    }
  ]
}